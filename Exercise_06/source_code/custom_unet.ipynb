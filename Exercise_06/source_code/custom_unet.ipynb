{
 "cells": [
  {
   "cell_type": "code",
   "execution_count": 1,
   "metadata": {},
   "outputs": [
    {
     "name": "stdout",
     "output_type": "stream",
     "text": [
      "NVIDIA GeForce RTX 3070\n",
      "2.3.0+cu121\n"
     ]
    }
   ],
   "source": [
    "# for processing image data we use fastai.vision\n",
    "from fastai.vision.all import * \n",
    "# At the latest, we should definitely use the GPU for computing. Therefore, the very first thing we test is,\n",
    "# if we have a kind CUDA device available\n",
    "print(torch.cuda.get_device_name(0))\n",
    "print(torch.__version__)"
   ]
  },
  {
   "cell_type": "code",
   "execution_count": 2,
   "metadata": {},
   "outputs": [],
   "source": [
    "# Random seed fixieren -> pseudo zufällig \n",
    "torch.manual_seed(0) # für pyTorch\n",
    "random.seed(0)       # für python"
   ]
  },
  {
   "cell_type": "markdown",
   "metadata": {},
   "source": [
    "based on https://arxiv.org/pdf/1505.04597"
   ]
  },
  {
   "cell_type": "code",
   "execution_count": 87,
   "metadata": {},
   "outputs": [],
   "source": [
    "class DoubleConv(nn.Module):\n",
    "    def __init__(self, in_channels, out_channels, bottleneck_channels: int | None = None) -> None:\n",
    "        super().__init__()\n",
    "        self.conv1 = nn.Conv2d(in_channels=in_channels, out_channels=out_channels, kernel_size=3, padding=\"same\")\n",
    "        self.conv2 = nn.Conv2d(in_channels=out_channels, out_channels=out_channels, kernel_size=3, padding=\"same\")\n",
    "        self.relu = nn.ReLU()\n",
    "\n",
    "        self.seq_stack = nn.Sequential(\n",
    "            self.conv1,\n",
    "            self.relu,\n",
    "            self.conv2,\n",
    "            self.relu,\n",
    "        )\n",
    "\n",
    "        if bottleneck_channels is not None:\n",
    "            self.seq_stack.append(nn.Conv2d(in_channels=out_channels, out_channels=bottleneck_channels, kernel_size=1))\n",
    "            self.seq_stack.append(self.relu)\n",
    "\n",
    "    def forward(self, x):\n",
    "        x = self.seq_stack(x)\n",
    "        return x\n",
    "\n",
    "class CustomUnet(nn.Module):\n",
    "    def __init__(self, in_channels, out_classes) -> None:\n",
    "        super().__init__()\n",
    "        self.double_conv_down_1 = DoubleConv(in_channels, 64)\n",
    "        self.double_conv_down_2 = DoubleConv(64, 128)\n",
    "        self.double_conv_down_3 = DoubleConv(128, 256)\n",
    "        self.double_conv_down_4 = DoubleConv(256, 512)\n",
    "        self.double_conv_down_5 = DoubleConv(512, 1024, bottleneck_channels=512)\n",
    "\n",
    "        self.double_conv_up_4 = DoubleConv(1024, 512, bottleneck_channels=256)\n",
    "        self.double_conv_up_3 = DoubleConv(512, 256, bottleneck_channels=128)\n",
    "        self.double_conv_up_2 = DoubleConv(256, 128, bottleneck_channels=64)\n",
    "        self.double_conv_up_1 = DoubleConv(128, 64)\n",
    "\n",
    "        self.bottleneck = nn.Conv2d(in_channels=64, out_channels=out_classes, kernel_size=1)\n",
    "\n",
    "        self.pool = nn.MaxPool2d(kernel_size=2, stride=2, return_indices=True)\n",
    "        self.unpool = nn.MaxUnpool2d(kernel_size=2, stride=2)\n",
    "\n",
    "    def forward(self, x):\n",
    "        x1 = self.double_conv_down_1(x)\n",
    "\n",
    "        x2, indices_x2 = self.pool(x1)\n",
    "        x2 = self.double_conv_down_2(x2)\n",
    "\n",
    "        x3, indices_x3 = self.pool(x2)\n",
    "        x3 = self.double_conv_down_3(x3)\n",
    "\n",
    "        x4, indices_x4 = self.pool(x3)\n",
    "        x4 = self.double_conv_down_4(x4)\n",
    "\n",
    "        x5, indices_x5 = self.pool(x4)\n",
    "        x5 = self.double_conv_down_5(x5)\n",
    "\n",
    "        x5 = self.unpool(x5, indices_x5)\n",
    "        x4 = torch.concat([x4, x5], dim=1)\n",
    "        x4 = self.double_conv_up_4(x4)\n",
    "\n",
    "        x4 = self.unpool(x4, indices_x4)\n",
    "        x3 = torch.concat([x3, x4], dim=1)\n",
    "        x3 = self.double_conv_up_3(x3)\n",
    "\n",
    "        x3 = self.unpool(x3, indices_x3)\n",
    "        x2 = torch.concat([x2, x3], dim=1)\n",
    "        x2 = self.double_conv_up_2(x2)\n",
    "\n",
    "        x2 = self.unpool(x2, indices_x2)\n",
    "        x1 = torch.concat([x1, x2], dim=1)\n",
    "        x1 = self.double_conv_up_1(x1)\n",
    "\n",
    "        x = self.bottleneck(x1)\n",
    "        return x"
   ]
  },
  {
   "cell_type": "code",
   "execution_count": 88,
   "metadata": {},
   "outputs": [
    {
     "name": "stdout",
     "output_type": "stream",
     "text": [
      "torch.Size([4, 2, 224, 224])\n"
     ]
    }
   ],
   "source": [
    "net = CustomUnet(3, 2)\n",
    "x = torch.rand((4, 3, 224, 224))\n",
    "pred = net(x)\n",
    "print(pred.shape)"
   ]
  }
 ],
 "metadata": {
  "kernelspec": {
   "display_name": "venv",
   "language": "python",
   "name": "python3"
  },
  "language_info": {
   "codemirror_mode": {
    "name": "ipython",
    "version": 3
   },
   "file_extension": ".py",
   "mimetype": "text/x-python",
   "name": "python",
   "nbconvert_exporter": "python",
   "pygments_lexer": "ipython3",
   "version": "3.12.3"
  }
 },
 "nbformat": 4,
 "nbformat_minor": 2
}
