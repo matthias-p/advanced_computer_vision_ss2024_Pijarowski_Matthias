{
 "cells": [
  {
   "cell_type": "code",
   "execution_count": null,
   "id": "50a27efb-f036-42c3-924d-c6d4f1ab5363",
   "metadata": {},
   "outputs": [],
   "source": [
    "import torchvision.datasets as datasets\n",
    "from pathlib import Path"
   ]
  },
  {
   "cell_type": "code",
   "execution_count": null,
   "id": "3cecb769-79f6-4453-9141-acc71bb4b55e",
   "metadata": {},
   "outputs": [],
   "source": [
    "mnist_trainset = datasets.MNIST(root=\"./data\", download=True, train=True, transform=None)\n",
    "\n",
    "for idx, (img, label) in enumerate(mnist_trainset):\n",
    "    directory = \"./data/mnist_png/\" + str(label)\n",
    "    Path(directory).mkdir(parents=True, exist_ok=True)\n",
    "    img.save(directory+ '/{:05d}.png'.format(idx) )"
   ]
  }
 ],
 "metadata": {
  "kernelspec": {
   "display_name": "Python 3 (ipykernel)",
   "language": "python",
   "name": "python3"
  },
  "language_info": {
   "codemirror_mode": {
    "name": "ipython",
    "version": 3
   },
   "file_extension": ".py",
   "mimetype": "text/x-python",
   "name": "python",
   "nbconvert_exporter": "python",
   "pygments_lexer": "ipython3",
   "version": "3.12.3"
  }
 },
 "nbformat": 4,
 "nbformat_minor": 5
}
