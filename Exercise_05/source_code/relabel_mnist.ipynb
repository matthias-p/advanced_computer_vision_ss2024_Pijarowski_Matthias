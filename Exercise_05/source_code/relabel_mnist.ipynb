{
 "cells": [
  {
   "cell_type": "code",
   "execution_count": null,
   "id": "f6dad806-0a33-4f34-a8a4-348790d1300f",
   "metadata": {},
   "outputs": [],
   "source": [
    "import torchvision.datasets as datasets\n",
    "from pathlib import Path\n",
    "import os\n",
    "import shutil\n",
    "import random"
   ]
  },
  {
   "cell_type": "code",
   "execution_count": null,
   "id": "0272f0d2-f0c6-48f0-b873-56f05ba98c7d",
   "metadata": {},
   "outputs": [],
   "source": [
    "data_directory = \"./data/mnist_png_mislabelled/\"\n",
    "\n",
    "classes = []\n",
    "for dirname in os.listdir(data_directory):\n",
    "    classes.append(dirname)\n",
    "\n",
    "random.seed(0)\n",
    "selected_classes = []\n",
    "for i in range(4):\n",
    "    selected_classes.append( random.choice(classes) )\n",
    "\n",
    "files = []\n",
    "\n",
    "for dirname in selected_classes:\n",
    "    for filename in os.listdir(data_directory + dirname):\n",
    "        files.append(data_directory + dirname + \"/\" + filename)\n",
    "\n",
    "for i in range(50):\n",
    "    file_1 = random.choice(files)\n",
    "    file_2 = random.choice(files)\n",
    "    print(file_1, \"<=>\", file_2)\n",
    "    tmp_file = data_directory + \"tmp.png\"\n",
    "    shutil.copyfile( file_1, tmp_file )\n",
    "    shutil.copyfile( file_2, file_1 )\n",
    "    shutil.copyfile( tmp_file, file_2 )"
   ]
  },
  {
   "cell_type": "code",
   "execution_count": null,
   "id": "33f70cc7-35e2-49e5-ae69-8cbf6e58b2ca",
   "metadata": {},
   "outputs": [],
   "source": []
  }
 ],
 "metadata": {
  "kernelspec": {
   "display_name": "Python 3 (ipykernel)",
   "language": "python",
   "name": "python3"
  },
  "language_info": {
   "codemirror_mode": {
    "name": "ipython",
    "version": 3
   },
   "file_extension": ".py",
   "mimetype": "text/x-python",
   "name": "python",
   "nbconvert_exporter": "python",
   "pygments_lexer": "ipython3",
   "version": "3.12.3"
  }
 },
 "nbformat": 4,
 "nbformat_minor": 5
}
