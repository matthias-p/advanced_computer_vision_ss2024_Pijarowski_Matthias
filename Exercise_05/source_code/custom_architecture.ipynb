{
 "cells": [
  {
   "cell_type": "code",
   "execution_count": null,
   "id": "f6dad806-0a33-4f34-a8a4-348790d1300f",
   "metadata": {},
   "outputs": [],
   "source": [
    "%reload_ext autoreload\n",
    "%autoreload 2\n",
    "%matplotlib inline"
   ]
  },
  {
   "cell_type": "code",
   "execution_count": null,
   "id": "5143efd3-01a4-4770-80b1-c8b22e4067bb",
   "metadata": {},
   "outputs": [],
   "source": [
    "from fastai.vision.all import * \n",
    "import torchvision.transforms as transforms \n",
    "from pathlib import Path\n",
    "import os\n",
    "torch.manual_seed(0) # für pyTorch\n",
    "random.seed(0)       # für python\n",
    "print( torch.cuda.get_device_name(0) )\n",
    "print( torch.__version__ )"
   ]
  },
  {
   "cell_type": "code",
   "execution_count": null,
   "id": "1a970229-55bc-4fe8-b232-e500cdba30e8",
   "metadata": {},
   "outputs": [],
   "source": [
    "path = Path('data/mnist_png/')\n",
    "sub_directories = [f.path for f in os.scandir(path) if f.is_dir()]\n",
    "     \n",
    "image_files = get_image_files(path)\n",
    "image_files\n",
    "\n",
    "image_cache = {}\n",
    "\n",
    "def load_image_from_cache(filename, cls=PILImageBW):\n",
    "    if filename in image_cache:\n",
    "        return image_cache[filename]\n",
    "    image = cls.create(filename)\n",
    "    image_cache[filename] = image\n",
    "    return image\n",
    "\n",
    "def label_function(filename):\n",
    "    return filename.parents[0].name"
   ]
  },
  {
   "cell_type": "code",
   "execution_count": null,
   "id": "318bc732-0b7d-4e92-a0c5-c53fecc8408c",
   "metadata": {},
   "outputs": [],
   "source": [
    "batch_transforms = [Normalize.from_stats(*imagenet_stats)]\n",
    "splitter = RandomSplitter(valid_pct=0.2, seed=42)\n",
    "\n",
    "blocks = (ImageBlock(cls=PILImageBW), CategoryBlock)\n",
    "\n",
    "block = DataBlock(blocks=blocks,\n",
    "                  get_items=get_image_files,\n",
    "                  get_x=load_image_from_cache,\n",
    "                  get_y=label_function,\n",
    "                  splitter=splitter,\n",
    "                  batch_tfms=batch_transforms)\n",
    "\n",
    "batch_size = 32\n",
    "data_loader = block.dataloaders(path, bs=batch_size, num_workers=0)\n",
    "data_loader.show_batch()"
   ]
  },
  {
   "cell_type": "code",
   "execution_count": null,
   "id": "48e146d6-9dd7-41d2-8f24-bf6fab19fbbd",
   "metadata": {},
   "outputs": [],
   "source": [
    "import torch\n",
    "\n",
    "def init_weights(m):\n",
    "    if isinstance(m, nn.Linear) or isinstance(m, nn.Conv2d):\n",
    "        torch.nn.init.xavier_uniform_(m.weight)\n",
    "        m.bias.data.fill_(0.01)"
   ]
  },
  {
   "cell_type": "code",
   "execution_count": null,
   "id": "e1850820-5bcc-487f-8fc0-ce23db9d9077",
   "metadata": {},
   "outputs": [],
   "source": [
    "class PrintLayer(nn.Module):\n",
    "    def __init__(self):\n",
    "        super(PrintLayer, self).__init__()\n",
    "    \n",
    "    def forward(self, x):\n",
    "        # do your print / debug here\n",
    "        print(x.shape, type(x))\n",
    "        return x"
   ]
  },
  {
   "cell_type": "code",
   "execution_count": null,
   "id": "af95a254-ff0e-4f06-885f-c7a7d9166ef8",
   "metadata": {},
   "outputs": [],
   "source": [
    "def conv_block( n_in, n_out ):\n",
    "    return nn.Sequential (\n",
    "        # insert your code here\n",
    "    )\n",
    "\n",
    "class residual_block(nn.Module):\n",
    "    def __init__(self, n_in, n_out):\n",
    "        super(residual_block, self).__init__()\n",
    "        # insert your code here\n",
    "    \n",
    "    def forward(self, x):\n",
    "        # insert your code here\n",
    "        return x\n",
    "\n",
    "model = nn.Sequential ( \n",
    "    # insert your code here\n",
    ")\n",
    "\n",
    "model.apply(init_weights)\n",
    "\n",
    "learner = Learner( data_loader, model, metrics=error_rate )\n",
    "learner.save(\"custom_net_initial\")\n",
    "\n",
    "print(learner.summary())"
   ]
  },
  {
   "cell_type": "code",
   "execution_count": null,
   "id": "c10dc13e-4510-4c83-9706-444a6e6c28b0",
   "metadata": {
    "scrolled": true
   },
   "outputs": [],
   "source": [
    "# learner.lr_find()\n",
    "gewaehlteLernrate = 1e-03"
   ]
  },
  {
   "cell_type": "code",
   "execution_count": null,
   "id": "451c8adc-eda2-4a9b-a0f5-5b5cc3efffbf",
   "metadata": {},
   "outputs": [],
   "source": [
    "learner.load(\"custom_net_initial\")\n",
    "learner.fit_one_cycle( 5, lr_max=gewaehlteLernrate, cbs=[ShowGraphCallback()] )\n",
    "learner.recorder.plot_loss()"
   ]
  }
 ],
 "metadata": {
  "kernelspec": {
   "display_name": "Python 3 (ipykernel)",
   "language": "python",
   "name": "python3"
  },
  "language_info": {
   "codemirror_mode": {
    "name": "ipython",
    "version": 3
   },
   "file_extension": ".py",
   "mimetype": "text/x-python",
   "name": "python",
   "nbconvert_exporter": "python",
   "pygments_lexer": "ipython3",
   "version": "3.12.3"
  }
 },
 "nbformat": 4,
 "nbformat_minor": 5
}
