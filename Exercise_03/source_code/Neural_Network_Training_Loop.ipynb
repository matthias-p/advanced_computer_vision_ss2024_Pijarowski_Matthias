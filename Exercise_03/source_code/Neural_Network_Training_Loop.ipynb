{
 "cells": [
  {
   "cell_type": "markdown",
   "metadata": {},
   "source": [
    "## Classifying From Tabular Data"
   ]
  },
  {
   "cell_type": "code",
   "execution_count": null,
   "metadata": {},
   "outputs": [],
   "source": [
    "# To classify tabular data we use fastai.tabular\n",
    "from fastai.tabular.all import * \n",
    "import matplotlib.pyplot as plt\n",
    "import numpy\n",
    "import random"
   ]
  },
  {
   "cell_type": "markdown",
   "metadata": {},
   "source": [
    "## Reading Data"
   ]
  },
  {
   "cell_type": "code",
   "execution_count": null,
   "metadata": {},
   "outputs": [],
   "source": [
    "# Path to data set\n",
    "# Test data get partitioned into a separate file already now\n",
    "from pathlib import Path\n",
    "data_path = Path('./data/mecs/MECS_2-Phase-Steels.csv')"
   ]
  },
  {
   "cell_type": "code",
   "execution_count": null,
   "metadata": {},
   "outputs": [],
   "source": [
    "# Reading CSV file containing training and validation data\n",
    "import pandas as pandas\n",
    "dataframe = pandas.read_csv(data_path, sep=';')\n",
    "\n",
    "# Looking at the first data\n",
    "dataframe.head()"
   ]
  },
  {
   "cell_type": "markdown",
   "metadata": {},
   "source": [
    "## Data Loading and Encoding "
   ]
  },
  {
   "cell_type": "code",
   "execution_count": null,
   "metadata": {},
   "outputs": [],
   "source": [
    "batch_size = 4\n",
    "n_features = len(dataframe.columns)-1\n",
    "\n",
    "def extract_numpy_from_df( dataframe, y_column ):\n",
    "    \n",
    "    # please extend your source code here\n",
    "    \n",
    "    return X,Y\n",
    "\n",
    "def clean_data( X ):\n",
    "\n",
    "    # please extend your source code here\n",
    "    \n",
    "    return X\n",
    "    \n",
    "def get_validation_and_training_indices( dataset_length ):\n",
    "\n",
    "    # please extend your source code here\n",
    "    \n",
    "    return indices_train,indices_validation\n",
    "\n",
    "def normalize( X ):\n",
    "\n",
    "    # please extend your source code here\n",
    "    \n",
    "    return X\n",
    "\n",
    "def hot_1_encode( Y, codes ):\n",
    "    \n",
    "    # please extend your source code here\n",
    "    \n",
    "    return Y_encoded\n",
    "\n",
    "def create_batch( permutation, batch_no, batch_size, X ):\n",
    "    x_batch = torch.zeros( [ batch_size, X.shape[1] ], dtype=torch.float32 )\n",
    "    \n",
    "    # please extend your source code here\n",
    "    \n",
    "    return x_batch\n",
    "\n",
    "codes = { 'category_1' : 0, 'category_2' : 1, 'category_3' : 2 }\n",
    "\n",
    "X,Y = extract_numpy_from_df( dataframe, 0 )\n",
    "X   = clean_data( X )\n",
    "indices_train,indices_validation = get_validation_and_training_indices( X.shape[0] )\n",
    "\n",
    "X   = normalize( X )\n",
    "Y   = hot_1_encode( Y, codes )"
   ]
  },
  {
   "cell_type": "markdown",
   "metadata": {},
   "source": [
    "## Creating a Network Architecture"
   ]
  },
  {
   "cell_type": "code",
   "execution_count": null,
   "metadata": {},
   "outputs": [],
   "source": [
    "def create_model( n_in, n_hidden, n_out ):\n",
    "    layer = []\n",
    "\n",
    "    # please extend your source code here\n",
    "\n",
    "    model = nn.Sequential( *layer )\n",
    "    return model\n",
    "\n",
    "model = create_model(X.shape[1], [50, 25], Y.shape[1])"
   ]
  },
  {
   "cell_type": "code",
   "execution_count": null,
   "metadata": {},
   "outputs": [],
   "source": [
    "print(model)"
   ]
  },
  {
   "cell_type": "markdown",
   "metadata": {},
   "source": [
    "## Training Loop"
   ]
  },
  {
   "cell_type": "code",
   "execution_count": null,
   "metadata": {},
   "outputs": [],
   "source": [
    "def accuracy_metric( y, y_hat ):\n",
    "    y     = torch.argmax(y, dim=1).to(torch.float32)\n",
    "    y_hat = torch.argmax(y_hat, dim=1).to(torch.float32)\n",
    "    difference = y_hat-y\n",
    "    return 1.0 - torch.mean( torch.abs( difference ) ).item() \n",
    "\n",
    "def train_one_epoch( epoch_index, indices_train, X, Y, optimizer, loss_fn, batch_size ):\n",
    "    losses           = []\n",
    "    accuracies       = []\n",
    "    \n",
    "    # please extend your source code here\n",
    "    \n",
    "    return losses, accuracies\n",
    "\n",
    "optimizer = torch.optim.Adam( params = model.parameters(), lr=0.001 )\n",
    "loss_fn   = torch.nn.CrossEntropyLoss()\n",
    "\n",
    "losses           = []\n",
    "accuracies       = []\n",
    "n_epochs = 50\n",
    "for i in range (n_epochs):\n",
    "    metrics = train_one_epoch( i, indices_train, X, Y, optimizer, loss_fn, 32 )\n",
    "    loss_per_epoch, accuracy_per_epoch = metrics\n",
    "    losses = losses + loss_per_epoch\n",
    "    accuracies = accuracies + accuracy_per_epoch\n",
    "    print(\"epoch\",i,\"/\",n_epochs,\"accuracy\",accuracy_per_epoch[-1])"
   ]
  },
  {
   "cell_type": "code",
   "execution_count": null,
   "metadata": {},
   "outputs": [],
   "source": [
    "fig,axis = plt.subplots( 1,1, figsize=(16,8) )\n",
    "axis.plot( losses )\n",
    "axis.plot( accuracies )\n",
    "plt.show()"
   ]
  },
  {
   "cell_type": "markdown",
   "metadata": {},
   "source": [
    "## Hyper Parameter Tuning"
   ]
  }
 ],
 "metadata": {
  "kernelspec": {
   "display_name": "Python 3 (ipykernel)",
   "language": "python",
   "name": "python3"
  },
  "language_info": {
   "codemirror_mode": {
    "name": "ipython",
    "version": 3
   },
   "file_extension": ".py",
   "mimetype": "text/x-python",
   "name": "python",
   "nbconvert_exporter": "python",
   "pygments_lexer": "ipython3",
   "version": "3.12.0"
  }
 },
 "nbformat": 4,
 "nbformat_minor": 4
}
