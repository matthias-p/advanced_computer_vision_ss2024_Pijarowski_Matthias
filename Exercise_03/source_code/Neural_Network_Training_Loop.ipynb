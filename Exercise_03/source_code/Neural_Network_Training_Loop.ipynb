{
 "cells": [
  {
   "cell_type": "markdown",
   "metadata": {},
   "source": [
    "## Classifying From Tabular Data"
   ]
  },
  {
   "cell_type": "code",
   "execution_count": 2,
   "metadata": {},
   "outputs": [],
   "source": [
    "# To classify tabular data we use fastai.tabular\n",
    "from fastai.tabular.all import * \n",
    "import matplotlib.pyplot as plt\n",
    "import numpy\n",
    "import random"
   ]
  },
  {
   "cell_type": "markdown",
   "metadata": {},
   "source": [
    "## Reading Data"
   ]
  },
  {
   "cell_type": "code",
   "execution_count": 3,
   "metadata": {},
   "outputs": [],
   "source": [
    "# Path to data set\n",
    "# Test data get partitioned into a separate file already now\n",
    "from pathlib import Path\n",
    "data_path = Path('./data/mecs/MECS_2-Phase-Steels.csv')"
   ]
  },
  {
   "cell_type": "code",
   "execution_count": 4,
   "metadata": {},
   "outputs": [
    {
     "data": {
      "text/html": [
       "<div>\n",
       "<style scoped>\n",
       "    .dataframe tbody tr th:only-of-type {\n",
       "        vertical-align: middle;\n",
       "    }\n",
       "\n",
       "    .dataframe tbody tr th {\n",
       "        vertical-align: top;\n",
       "    }\n",
       "\n",
       "    .dataframe thead th {\n",
       "        text-align: right;\n",
       "    }\n",
       "</style>\n",
       "<table border=\"1\" class=\"dataframe\">\n",
       "  <thead>\n",
       "    <tr style=\"text-align: right;\">\n",
       "      <th></th>\n",
       "      <th>class</th>\n",
       "      <th>equiv. diameter</th>\n",
       "      <th>major axis length</th>\n",
       "      <th>minor axis length</th>\n",
       "      <th>perimeter</th>\n",
       "      <th>equiv. radius</th>\n",
       "      <th>max feret diameter</th>\n",
       "      <th>min feret diameter</th>\n",
       "      <th>mean feret diameter</th>\n",
       "      <th>convex perimeter</th>\n",
       "      <th>...</th>\n",
       "      <th>std. relativ area</th>\n",
       "      <th>std. convex area/filled area</th>\n",
       "      <th>std. axial ratio</th>\n",
       "      <th>std. aspect ratio</th>\n",
       "      <th>std. roundness</th>\n",
       "      <th>std. circularity</th>\n",
       "      <th>std. sphericity</th>\n",
       "      <th>std. convex per./filled per.</th>\n",
       "      <th>std. form factor</th>\n",
       "      <th>std. convexity</th>\n",
       "    </tr>\n",
       "  </thead>\n",
       "  <tbody>\n",
       "    <tr>\n",
       "      <th>0</th>\n",
       "      <td>category_3</td>\n",
       "      <td>15.225748</td>\n",
       "      <td>11.478270</td>\n",
       "      <td>6.516211</td>\n",
       "      <td>101.586092</td>\n",
       "      <td>7.612874</td>\n",
       "      <td>28.476331</td>\n",
       "      <td>14.601479</td>\n",
       "      <td>21.538905</td>\n",
       "      <td>69.846721</td>\n",
       "      <td>...</td>\n",
       "      <td>0.002630</td>\n",
       "      <td>0.360265</td>\n",
       "      <td>0.247471</td>\n",
       "      <td>0.172865</td>\n",
       "      <td>0.167522</td>\n",
       "      <td>0.150141</td>\n",
       "      <td>0.991127</td>\n",
       "      <td>0.257917</td>\n",
       "      <td>0.254766</td>\n",
       "      <td>0.725854</td>\n",
       "    </tr>\n",
       "    <tr>\n",
       "      <th>1</th>\n",
       "      <td>category_3</td>\n",
       "      <td>1.151113</td>\n",
       "      <td>0.974243</td>\n",
       "      <td>0.385487</td>\n",
       "      <td>5.609659</td>\n",
       "      <td>0.575557</td>\n",
       "      <td>2.580962</td>\n",
       "      <td>0.888856</td>\n",
       "      <td>1.734909</td>\n",
       "      <td>5.555157</td>\n",
       "      <td>...</td>\n",
       "      <td>0.193671</td>\n",
       "      <td>0.345320</td>\n",
       "      <td>0.108488</td>\n",
       "      <td>0.097143</td>\n",
       "      <td>0.104520</td>\n",
       "      <td>0.107560</td>\n",
       "      <td>0.357665</td>\n",
       "      <td>0.126119</td>\n",
       "      <td>0.195196</td>\n",
       "      <td>0.270121</td>\n",
       "    </tr>\n",
       "    <tr>\n",
       "      <th>2</th>\n",
       "      <td>category_3</td>\n",
       "      <td>1.450391</td>\n",
       "      <td>1.068283</td>\n",
       "      <td>0.524281</td>\n",
       "      <td>5.629028</td>\n",
       "      <td>0.725196</td>\n",
       "      <td>2.312959</td>\n",
       "      <td>1.144310</td>\n",
       "      <td>1.728635</td>\n",
       "      <td>5.545392</td>\n",
       "      <td>...</td>\n",
       "      <td>0.102618</td>\n",
       "      <td>0.441363</td>\n",
       "      <td>0.205836</td>\n",
       "      <td>0.167468</td>\n",
       "      <td>0.075052</td>\n",
       "      <td>0.079354</td>\n",
       "      <td>0.199565</td>\n",
       "      <td>0.134383</td>\n",
       "      <td>0.116518</td>\n",
       "      <td>0.255049</td>\n",
       "    </tr>\n",
       "    <tr>\n",
       "      <th>3</th>\n",
       "      <td>category_3</td>\n",
       "      <td>3.561641</td>\n",
       "      <td>2.350421</td>\n",
       "      <td>1.400185</td>\n",
       "      <td>13.099335</td>\n",
       "      <td>1.780821</td>\n",
       "      <td>5.162738</td>\n",
       "      <td>3.039382</td>\n",
       "      <td>4.101060</td>\n",
       "      <td>12.632860</td>\n",
       "      <td>...</td>\n",
       "      <td>0.040841</td>\n",
       "      <td>0.347140</td>\n",
       "      <td>0.234101</td>\n",
       "      <td>0.159523</td>\n",
       "      <td>0.160860</td>\n",
       "      <td>0.144939</td>\n",
       "      <td>1.299666</td>\n",
       "      <td>0.328635</td>\n",
       "      <td>0.253970</td>\n",
       "      <td>1.025188</td>\n",
       "    </tr>\n",
       "    <tr>\n",
       "      <th>4</th>\n",
       "      <td>category_3</td>\n",
       "      <td>6.676158</td>\n",
       "      <td>5.226249</td>\n",
       "      <td>2.784733</td>\n",
       "      <td>35.279133</td>\n",
       "      <td>3.338079</td>\n",
       "      <td>12.536480</td>\n",
       "      <td>6.907373</td>\n",
       "      <td>9.721926</td>\n",
       "      <td>30.297397</td>\n",
       "      <td>...</td>\n",
       "      <td>0.009716</td>\n",
       "      <td>0.257991</td>\n",
       "      <td>0.253047</td>\n",
       "      <td>0.162753</td>\n",
       "      <td>0.156650</td>\n",
       "      <td>0.134192</td>\n",
       "      <td>1.073103</td>\n",
       "      <td>0.273935</td>\n",
       "      <td>0.238783</td>\n",
       "      <td>0.793738</td>\n",
       "    </tr>\n",
       "  </tbody>\n",
       "</table>\n",
       "<p>5 rows × 107 columns</p>\n",
       "</div>"
      ],
      "text/plain": [
       "        class  equiv. diameter  major axis length  minor axis length  \\\n",
       "0  category_3        15.225748          11.478270           6.516211   \n",
       "1  category_3         1.151113           0.974243           0.385487   \n",
       "2  category_3         1.450391           1.068283           0.524281   \n",
       "3  category_3         3.561641           2.350421           1.400185   \n",
       "4  category_3         6.676158           5.226249           2.784733   \n",
       "\n",
       "    perimeter  equiv. radius  max feret diameter  min feret diameter  \\\n",
       "0  101.586092       7.612874           28.476331           14.601479   \n",
       "1    5.609659       0.575557            2.580962            0.888856   \n",
       "2    5.629028       0.725196            2.312959            1.144310   \n",
       "3   13.099335       1.780821            5.162738            3.039382   \n",
       "4   35.279133       3.338079           12.536480            6.907373   \n",
       "\n",
       "   mean feret diameter  convex perimeter  ...  std. relativ area  \\\n",
       "0            21.538905         69.846721  ...           0.002630   \n",
       "1             1.734909          5.555157  ...           0.193671   \n",
       "2             1.728635          5.545392  ...           0.102618   \n",
       "3             4.101060         12.632860  ...           0.040841   \n",
       "4             9.721926         30.297397  ...           0.009716   \n",
       "\n",
       "   std. convex area/filled area  std. axial ratio  std. aspect ratio  \\\n",
       "0                      0.360265          0.247471           0.172865   \n",
       "1                      0.345320          0.108488           0.097143   \n",
       "2                      0.441363          0.205836           0.167468   \n",
       "3                      0.347140          0.234101           0.159523   \n",
       "4                      0.257991          0.253047           0.162753   \n",
       "\n",
       "   std. roundness  std. circularity  std. sphericity  \\\n",
       "0        0.167522          0.150141         0.991127   \n",
       "1        0.104520          0.107560         0.357665   \n",
       "2        0.075052          0.079354         0.199565   \n",
       "3        0.160860          0.144939         1.299666   \n",
       "4        0.156650          0.134192         1.073103   \n",
       "\n",
       "   std. convex per./filled per.  std. form factor  std. convexity  \n",
       "0                      0.257917          0.254766        0.725854  \n",
       "1                      0.126119          0.195196        0.270121  \n",
       "2                      0.134383          0.116518        0.255049  \n",
       "3                      0.328635          0.253970        1.025188  \n",
       "4                      0.273935          0.238783        0.793738  \n",
       "\n",
       "[5 rows x 107 columns]"
      ]
     },
     "execution_count": 4,
     "metadata": {},
     "output_type": "execute_result"
    }
   ],
   "source": [
    "# Reading CSV file containing training and validation data\n",
    "import pandas as pd\n",
    "dataframe = pd.read_csv(data_path, sep=';')\n",
    "\n",
    "# Looking at the first data\n",
    "dataframe.head()"
   ]
  },
  {
   "cell_type": "markdown",
   "metadata": {},
   "source": [
    "## Data Loading and Encoding "
   ]
  },
  {
   "cell_type": "code",
   "execution_count": 42,
   "metadata": {},
   "outputs": [],
   "source": [
    "m = np.arange(6).reshape(3,2).mean(axis=0)\n",
    "s = np.arange(6).reshape(3,2).std(axis=0)"
   ]
  },
  {
   "cell_type": "code",
   "execution_count": 70,
   "metadata": {},
   "outputs": [],
   "source": [
    "batch_size = 4\n",
    "n_features = len(dataframe.columns)-1\n",
    "\n",
    "def extract_numpy_from_df( dataframe: pd.DataFrame, y_column: int ):\n",
    "    y_column_name = dataframe.columns[y_column]\n",
    "    X = dataframe.drop(y_column_name, axis=1).to_numpy(dtype=np.float32)\n",
    "    Y = dataframe[y_column_name].to_numpy()\n",
    "    return X,Y\n",
    "\n",
    "def clean_data( X ):\n",
    "    X = X[~np.isnan(X).any(axis=1)]\n",
    "    return X\n",
    "    \n",
    "def get_validation_and_training_indices( dataset_length ):\n",
    "    indices = np.random.permutation(dataset_length)\n",
    "    t = int(dataset_length * 0.8)\n",
    "\n",
    "    return indices[:t], indices[t:]\n",
    "\n",
    "def normalize( X ):\n",
    "    m = X.mean(axis=0)\n",
    "    s = X.std(axis=0)\n",
    "    \n",
    "    return (X - m) / s \n",
    "\n",
    "def hot_1_encode( Y, codes ):\n",
    "    Y_encoded = np.zeros((Y.shape[0], len(codes)))\n",
    "    for i, elem in enumerate(Y):\n",
    "        Y_encoded[i, codes.get(elem)] = 1\n",
    "    \n",
    "    return Y_encoded\n",
    "\n",
    "def create_batch( permutation, batch_no, batch_size, X ):\n",
    "    x_batch = torch.zeros( [ batch_size, X.shape[1] ], dtype=torch.float32 )\n",
    "    indices = permutation[batch_no * batch_size: batch_no * batch_size + batch_size]\n",
    "    \n",
    "    for i in range(batch_size):\n",
    "        x_batch[i] = torch.from_numpy(X[indices[i]])\n",
    "    return x_batch\n",
    "\n",
    "codes = { 'category_1' : 0, 'category_2' : 1, 'category_3' : 2 }\n",
    "\n",
    "X,Y = extract_numpy_from_df( dataframe, 0 )\n",
    "X   = clean_data( X )\n",
    "indices_train,indices_validation = get_validation_and_training_indices( X.shape[0] )\n",
    "\n",
    "X   = normalize( X )\n",
    "Y   = hot_1_encode( Y, codes )"
   ]
  },
  {
   "cell_type": "markdown",
   "metadata": {},
   "source": [
    "## Creating a Network Architecture"
   ]
  },
  {
   "cell_type": "code",
   "execution_count": 77,
   "metadata": {},
   "outputs": [],
   "source": [
    "def create_model( n_in, n_hidden, n_out ):\n",
    "    layer = []\n",
    "    layer.append(nn.Linear(n_in, n_hidden[0]))\n",
    "    layer.append(nn.ReLU())\n",
    "    for i in range(len(n_hidden) - 1):\n",
    "        layer.append(nn.Linear(n_hidden[i], n_hidden[i + 1]))\n",
    "        layer.append(nn.ReLU())\n",
    "    layer.append(nn.Linear(n_hidden[-1], n_out))\n",
    "\n",
    "    model = nn.Sequential( *layer )\n",
    "    return model\n",
    "\n",
    "model = create_model(X.shape[1], [50, 25], Y.shape[1])"
   ]
  },
  {
   "cell_type": "code",
   "execution_count": 78,
   "metadata": {},
   "outputs": [
    {
     "name": "stdout",
     "output_type": "stream",
     "text": [
      "Sequential(\n",
      "  (0): Linear(in_features=106, out_features=50, bias=True)\n",
      "  (1): ReLU()\n",
      "  (2): Linear(in_features=50, out_features=25, bias=True)\n",
      "  (3): ReLU()\n",
      "  (4): Linear(in_features=25, out_features=3, bias=True)\n",
      ")\n"
     ]
    }
   ],
   "source": [
    "print(model)"
   ]
  },
  {
   "cell_type": "markdown",
   "metadata": {},
   "source": [
    "## Training Loop"
   ]
  },
  {
   "cell_type": "code",
   "execution_count": 79,
   "metadata": {},
   "outputs": [
    {
     "data": {
      "text/plain": [
       "10734"
      ]
     },
     "execution_count": 79,
     "metadata": {},
     "output_type": "execute_result"
    }
   ],
   "source": [
    "X.shape[0]"
   ]
  },
  {
   "cell_type": "code",
   "execution_count": null,
   "metadata": {},
   "outputs": [],
   "source": [
    "def accuracy_metric( y, y_hat ):\n",
    "    y     = torch.argmax(y, dim=1).to(torch.float32)\n",
    "    y_hat = torch.argmax(y_hat, dim=1).to(torch.float32)\n",
    "    difference = y_hat-y\n",
    "    return 1.0 - torch.mean( torch.abs( difference ) ).item() \n",
    "\n",
    "def train_one_epoch( epoch_index, indices_train, X, Y, optimizer, loss_fn, batch_size ):\n",
    "    losses           = []\n",
    "    accuracies       = []\n",
    "\n",
    "    for batch_no in range(X.shape[0] / batch_size):\n",
    "        batch = create_batch(indices_train, batch_no, batch_size, X)\n",
    "\n",
    "        optimizer.zero_\n",
    "    \n",
    "    # please extend your source code here\n",
    "    \n",
    "    return losses, accuracies\n",
    "\n",
    "optimizer = torch.optim.Adam( params = model.parameters(), lr=0.001 )\n",
    "loss_fn   = torch.nn.CrossEntropyLoss()\n",
    "\n",
    "losses           = []\n",
    "accuracies       = []\n",
    "n_epochs = 50\n",
    "for i in range (n_epochs):\n",
    "    metrics = train_one_epoch( i, indices_train, X, Y, optimizer, loss_fn, 32 )\n",
    "    loss_per_epoch, accuracy_per_epoch = metrics\n",
    "    losses = losses + loss_per_epoch\n",
    "    accuracies = accuracies + accuracy_per_epoch\n",
    "    print(\"epoch\",i,\"/\",n_epochs,\"accuracy\",accuracy_per_epoch[-1])"
   ]
  },
  {
   "cell_type": "code",
   "execution_count": null,
   "metadata": {},
   "outputs": [],
   "source": [
    "fig,axis = plt.subplots( 1,1, figsize=(16,8) )\n",
    "axis.plot( losses )\n",
    "axis.plot( accuracies )\n",
    "plt.show()"
   ]
  },
  {
   "cell_type": "markdown",
   "metadata": {},
   "source": [
    "## Hyper Parameter Tuning"
   ]
  }
 ],
 "metadata": {
  "kernelspec": {
   "display_name": "Python 3 (ipykernel)",
   "language": "python",
   "name": "python3"
  },
  "language_info": {
   "codemirror_mode": {
    "name": "ipython",
    "version": 3
   },
   "file_extension": ".py",
   "mimetype": "text/x-python",
   "name": "python",
   "nbconvert_exporter": "python",
   "pygments_lexer": "ipython3",
   "version": "3.10.12"
  }
 },
 "nbformat": 4,
 "nbformat_minor": 4
}
