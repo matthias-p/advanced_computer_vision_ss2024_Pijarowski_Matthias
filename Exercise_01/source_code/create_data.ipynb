{
 "cells": [
  {
   "cell_type": "code",
   "execution_count": 1,
   "id": "4cb3bb95-fcc5-4004-a62d-306cbe576c43",
   "metadata": {},
   "outputs": [],
   "source": [
    "import random\n",
    "import numpy\n",
    "\n",
    "def create_dataset( filename, n, coefficients, noise_sigma, exponent=1):\n",
    "    data = []\n",
    "    for i in range( n ):\n",
    "        x = random.uniform(-100, 100)\n",
    "        y = coefficients[0] + pow(x, exponent) * coefficients[1]\n",
    "        y = y + random.gauss(0, noise_sigma)\n",
    "        data.append( (x,y) )\n",
    "    data = sorted( data )\n",
    "    array = numpy.asarray( data )\n",
    "    numpy.savetxt(filename, array, delimiter=\";\")\n",
    "    \n",
    "create_dataset( \"linear_dataset_100.csv\",  100, [14.0, 0.7], 5.0 )\n",
    "create_dataset( \"linear_dataset_20.csv\",    20, [14.0, 0.7], 5.0 )\n",
    "create_dataset( \"linear_dataset_test.csv\",  20, [14.0, 0.7], 5.0 )\n",
    "\n",
    "create_dataset( \"non_linear_dataset_20.csv\",   20, [14.0, 0.7], 500.0, exponent=2 )\n",
    "create_dataset( \"non_linear_dataset_100.csv\", 100, [14.0, 0.7], 500.0, exponent=2 )\n",
    "create_dataset( \"non_linear_dataset_test.csv\", 20, [14.0, 0.7], 500.0, exponent=2 )"
   ]
  },
  {
   "cell_type": "code",
   "execution_count": null,
   "id": "dad2fd53",
   "metadata": {},
   "outputs": [],
   "source": []
  }
 ],
 "metadata": {
  "kernelspec": {
   "display_name": "Python 3 (ipykernel)",
   "language": "python",
   "name": "python3"
  },
  "language_info": {
   "codemirror_mode": {
    "name": "ipython",
    "version": 3
   },
   "file_extension": ".py",
   "mimetype": "text/x-python",
   "name": "python",
   "nbconvert_exporter": "python",
   "pygments_lexer": "ipython3",
   "version": "3.10.12"
  }
 },
 "nbformat": 4,
 "nbformat_minor": 5
}
